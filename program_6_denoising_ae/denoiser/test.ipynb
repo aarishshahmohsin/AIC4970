{
 "cells": [
  {
   "cell_type": "code",
   "execution_count": 5,
   "id": "bdb7a861",
   "metadata": {},
   "outputs": [],
   "source": [
    "# --- 1. Imports ---\n",
    "import os\n",
    "import numpy as np\n",
    "import torch\n",
    "import torch.nn as nn\n",
    "import matplotlib.pyplot as plt\n",
    "from PIL import Image\n",
    "from torchvision import transforms\n",
    "\n",
    "from train import DenoiseAutoencoder \n",
    "\n",
    "# --- 2. Image loader ---\n",
    "def load_image(path, size=(32, 32)):\n",
    "    transform = transforms.Compose([\n",
    "        transforms.Resize(size),\n",
    "        transforms.ToTensor()  # converts to [0,1], shape (C,H,W)\n",
    "    ])\n",
    "    img = Image.open(path).convert(\"RGB\")\n",
    "    return transform(img).unsqueeze(0)  # add batch dim"
   ]
  },
  {
   "cell_type": "code",
   "execution_count": 6,
   "id": "d683e35b",
   "metadata": {},
   "outputs": [
    {
     "name": "stderr",
     "output_type": "stream",
     "text": [
      "/tmp/ipykernel_52958/3365954350.py:3: FutureWarning: You are using `torch.load` with `weights_only=False` (the current default value), which uses the default pickle module implicitly. It is possible to construct malicious pickle data which will execute arbitrary code during unpickling (See https://github.com/pytorch/pytorch/blob/main/SECURITY.md#untrusted-models for more details). In a future release, the default value for `weights_only` will be flipped to `True`. This limits the functions that could be executed during unpickling. Arbitrary objects will no longer be allowed to be loaded via this mode unless they are explicitly allowlisted by the user via `torch.serialization.add_safe_globals`. We recommend you start setting `weights_only=True` for any use case where you don't have full control of the loaded file. Please open an issue on GitHub for any issues related to this experimental feature.\n",
      "  model.load_state_dict(torch.load(\"outputs/best_gaussian.ckpt\", map_location=device)['model_state'])\n"
     ]
    },
    {
     "data": {
      "text/plain": [
       "DenoiseAutoencoder(\n",
       "  (e1): ConvBlock(\n",
       "    (conv): Conv2d(3, 64, kernel_size=(3, 3), stride=(1, 1), padding=(1, 1))\n",
       "    (bn): BatchNorm2d(64, eps=1e-05, momentum=0.1, affine=True, track_running_stats=True)\n",
       "    (act): ReLU(inplace=True)\n",
       "    (do): Dropout2d(p=0.1, inplace=False)\n",
       "  )\n",
       "  (e2): ConvBlock(\n",
       "    (conv): Conv2d(64, 64, kernel_size=(3, 3), stride=(2, 2), padding=(1, 1))\n",
       "    (bn): BatchNorm2d(64, eps=1e-05, momentum=0.1, affine=True, track_running_stats=True)\n",
       "    (act): ReLU(inplace=True)\n",
       "    (do): Dropout2d(p=0.1, inplace=False)\n",
       "  )\n",
       "  (e3): ConvBlock(\n",
       "    (conv): Conv2d(64, 128, kernel_size=(3, 3), stride=(1, 1), padding=(1, 1))\n",
       "    (bn): BatchNorm2d(128, eps=1e-05, momentum=0.1, affine=True, track_running_stats=True)\n",
       "    (act): ReLU(inplace=True)\n",
       "    (do): Dropout2d(p=0.1, inplace=False)\n",
       "  )\n",
       "  (e4): ConvBlock(\n",
       "    (conv): Conv2d(128, 128, kernel_size=(3, 3), stride=(2, 2), padding=(1, 1))\n",
       "    (bn): BatchNorm2d(128, eps=1e-05, momentum=0.1, affine=True, track_running_stats=True)\n",
       "    (act): ReLU(inplace=True)\n",
       "    (do): Dropout2d(p=0.1, inplace=False)\n",
       "  )\n",
       "  (e5): ConvBlock(\n",
       "    (conv): Conv2d(128, 256, kernel_size=(3, 3), stride=(1, 1), padding=(1, 1))\n",
       "    (bn): BatchNorm2d(256, eps=1e-05, momentum=0.1, affine=True, track_running_stats=True)\n",
       "    (act): ReLU(inplace=True)\n",
       "    (do): Dropout2d(p=0.1, inplace=False)\n",
       "  )\n",
       "  (e6): ConvBlock(\n",
       "    (conv): Conv2d(256, 256, kernel_size=(3, 3), stride=(2, 2), padding=(1, 1))\n",
       "    (bn): BatchNorm2d(256, eps=1e-05, momentum=0.1, affine=True, track_running_stats=True)\n",
       "    (act): ReLU(inplace=True)\n",
       "    (do): Dropout2d(p=0.1, inplace=False)\n",
       "  )\n",
       "  (d1): ConvBlock(\n",
       "    (conv): Conv2d(256, 256, kernel_size=(3, 3), stride=(1, 1), padding=(1, 1))\n",
       "    (bn): BatchNorm2d(256, eps=1e-05, momentum=0.1, affine=True, track_running_stats=True)\n",
       "    (act): ReLU(inplace=True)\n",
       "    (do): Identity()\n",
       "  )\n",
       "  (up1): ConvTranspose2d(256, 128, kernel_size=(2, 2), stride=(2, 2))\n",
       "  (d2): ConvBlock(\n",
       "    (conv): Conv2d(128, 128, kernel_size=(3, 3), stride=(1, 1), padding=(1, 1))\n",
       "    (bn): BatchNorm2d(128, eps=1e-05, momentum=0.1, affine=True, track_running_stats=True)\n",
       "    (act): ReLU(inplace=True)\n",
       "    (do): Identity()\n",
       "  )\n",
       "  (up2): ConvTranspose2d(128, 64, kernel_size=(2, 2), stride=(2, 2))\n",
       "  (d3): ConvBlock(\n",
       "    (conv): Conv2d(64, 64, kernel_size=(3, 3), stride=(1, 1), padding=(1, 1))\n",
       "    (bn): BatchNorm2d(64, eps=1e-05, momentum=0.1, affine=True, track_running_stats=True)\n",
       "    (act): ReLU(inplace=True)\n",
       "    (do): Identity()\n",
       "  )\n",
       "  (up3): ConvTranspose2d(64, 64, kernel_size=(2, 2), stride=(2, 2))\n",
       "  (out): Conv2d(64, 3, kernel_size=(1, 1), stride=(1, 1))\n",
       "  (tanh): Sigmoid()\n",
       ")"
      ]
     },
     "execution_count": 6,
     "metadata": {},
     "output_type": "execute_result"
    }
   ],
   "source": [
    "device = \"cuda\" if torch.cuda.is_available() else \"cpu\"\n",
    "model = DenoiseAutoencoder().to(device)\n",
    "model.load_state_dict(torch.load(\"outputs/best_gaussian.ckpt\", map_location=device)['model_state'])\n",
    "model.eval()\n"
   ]
  },
  {
   "cell_type": "code",
   "execution_count": null,
   "id": "66efac47",
   "metadata": {},
   "outputs": [
    {
     "data": {
      "image/png": "[encoded data removed]",
      "text/plain": [
       "<Figure size 1200x400 with 3 Axes>"
      ]
     },
     "metadata": {},
     "output_type": "display_data"
    },
    {
     "ename": "",
     "evalue": "",
     "output_type": "error",
     "traceback": [
      "\u001b[1;31mnotebook controller is DISPOSED. \n",
      "\u001b[1;31mView Jupyter <a href='command:jupyter.viewOutput'>log</a> for further details."
     ]
    }
   ],
   "source": [
    "# img_path = \"/home/aarish/AIC4970/image.png\"  # 🔹 change this\n",
    "img_path = '/home/aarish/AIC4970/scene.png'\n",
    "img = load_image(img_path).to(device)  # shape (1,3,32,32)\n",
    "# noisy_img = add_gaussian_noise(img, sigma=0.2)\n",
    "\n",
    "with torch.no_grad():\n",
    "    recon = model(img)\n",
    "\n",
    "# --- 6. Convert for plotting ---\n",
    "img_np = img.squeeze(0).permute(1,2,0).cpu().numpy()\n",
    "noisy_np = img.squeeze(0).permute(1,2,0).cpu().numpy()\n",
    "recon_np = recon.squeeze(0).permute(1,2,0).cpu().numpy()\n",
    "\n",
    "# --- 7. Plot ---\n",
    "fig, axes = plt.subplots(1, 3, figsize=(12, 4))\n",
    "axes[0].imshow(img_np); axes[0].set_title(\"Clean\"); axes[0].axis(\"off\")\n",
    "axes[1].imshow(noisy_np); axes[1].set_title(\"Noisy\"); axes[1].axis(\"off\")\n",
    "axes[2].imshow(recon_np); axes[2].set_title(\"Reconstructed\"); axes[2].axis(\"off\")\n",
    "plt.show()"
   ]
  },
  {
   "cell_type": "code",
   "execution_count": null,
   "id": "6f95d581",
   "metadata": {},
   "outputs": [],
   "source": []
  }
 ],
 "metadata": {
  "kernelspec": {
   "display_name": "torch_env",
   "language": "python",
   "name": "python3"
  },
  "language_info": {
   "codemirror_mode": {
    "name": "ipython",
    "version": 3
   },
   "file_extension": ".py",
   "mimetype": "text/x-python",
   "name": "python",
   "nbconvert_exporter": "python",
   "pygments_lexer": "ipython3",
   "version": "3.10.18"
  }
 },
 "nbformat": 4,
 "nbformat_minor": 5
}
